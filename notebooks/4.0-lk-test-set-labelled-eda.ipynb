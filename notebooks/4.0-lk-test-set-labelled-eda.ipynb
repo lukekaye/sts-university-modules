{
 "cells": [
  {
   "cell_type": "markdown",
   "id": "8333bf63",
   "metadata": {},
   "source": [
    "Rudimentary EDA into the labelled testing data"
   ]
  },
  {
   "cell_type": "code",
   "execution_count": 1,
   "id": "6031ed13",
   "metadata": {},
   "outputs": [],
   "source": [
    "from pathlib import Path\n",
    "import pandas as pd\n",
    "\n",
    "\n",
    "# location of test_pairs_labelled.txt\n",
    "test_pairs = Path.cwd().parent.joinpath('data/raw/test_pairs_labelled.txt')\n",
    "\n",
    "# load test_pairs_labelled.txt, semi-colon is the separator used in the file \n",
    "test_pairs = pd.read_csv(test_pairs, sep = ';', header = None, names = ['ModuleCodes', 'Similarity'])"
   ]
  },
  {
   "cell_type": "code",
   "execution_count": 2,
   "id": "b4ec0891",
   "metadata": {},
   "outputs": [
    {
     "data": {
      "text/html": [
       "<div>\n",
       "<style scoped>\n",
       "    .dataframe tbody tr th:only-of-type {\n",
       "        vertical-align: middle;\n",
       "    }\n",
       "\n",
       "    .dataframe tbody tr th {\n",
       "        vertical-align: top;\n",
       "    }\n",
       "\n",
       "    .dataframe thead th {\n",
       "        text-align: right;\n",
       "    }\n",
       "</style>\n",
       "<table border=\"1\" class=\"dataframe\">\n",
       "  <thead>\n",
       "    <tr style=\"text-align: right;\">\n",
       "      <th></th>\n",
       "      <th>ModuleCodes</th>\n",
       "      <th>Similarity</th>\n",
       "    </tr>\n",
       "  </thead>\n",
       "  <tbody>\n",
       "    <tr>\n",
       "      <th>0</th>\n",
       "      <td>[['MCD8007'], ['HIS3351']]</td>\n",
       "      <td>1.0</td>\n",
       "    </tr>\n",
       "    <tr>\n",
       "      <th>1</th>\n",
       "      <td>[['EDU8231'], ['SPE1051']]</td>\n",
       "      <td>1.0</td>\n",
       "    </tr>\n",
       "    <tr>\n",
       "      <th>2</th>\n",
       "      <td>[['MON2001'], ['ICM0100']]</td>\n",
       "      <td>0.0</td>\n",
       "    </tr>\n",
       "    <tr>\n",
       "      <th>3</th>\n",
       "      <td>[['HSS8007'], ['SML9024']]</td>\n",
       "      <td>3.0</td>\n",
       "    </tr>\n",
       "    <tr>\n",
       "      <th>4</th>\n",
       "      <td>[['TCP8902'], ['MCH3164', 'MCH8164']]</td>\n",
       "      <td>2.0</td>\n",
       "    </tr>\n",
       "    <tr>\n",
       "      <th>...</th>\n",
       "      <td>...</td>\n",
       "      <td>...</td>\n",
       "    </tr>\n",
       "    <tr>\n",
       "      <th>424</th>\n",
       "      <td>[['CSC3632'], ['BIO8198']]</td>\n",
       "      <td>2.0</td>\n",
       "    </tr>\n",
       "    <tr>\n",
       "      <th>425</th>\n",
       "      <td>[['MCH3086'], ['BIO8005']]</td>\n",
       "      <td>0.0</td>\n",
       "    </tr>\n",
       "    <tr>\n",
       "      <th>426</th>\n",
       "      <td>[['SEL3393'], ['ACC4055']]</td>\n",
       "      <td>0.0</td>\n",
       "    </tr>\n",
       "    <tr>\n",
       "      <th>427</th>\n",
       "      <td>[['GRN8708'], ['CEG2724']]</td>\n",
       "      <td>1.0</td>\n",
       "    </tr>\n",
       "    <tr>\n",
       "      <th>428</th>\n",
       "      <td>[['CHN2010'], ['CME8107', 'CME8125']]</td>\n",
       "      <td>0.0</td>\n",
       "    </tr>\n",
       "  </tbody>\n",
       "</table>\n",
       "<p>429 rows × 2 columns</p>\n",
       "</div>"
      ],
      "text/plain": [
       "                               ModuleCodes  Similarity\n",
       "0               [['MCD8007'], ['HIS3351']]         1.0\n",
       "1               [['EDU8231'], ['SPE1051']]         1.0\n",
       "2               [['MON2001'], ['ICM0100']]         0.0\n",
       "3               [['HSS8007'], ['SML9024']]         3.0\n",
       "4    [['TCP8902'], ['MCH3164', 'MCH8164']]         2.0\n",
       "..                                     ...         ...\n",
       "424             [['CSC3632'], ['BIO8198']]         2.0\n",
       "425             [['MCH3086'], ['BIO8005']]         0.0\n",
       "426             [['SEL3393'], ['ACC4055']]         0.0\n",
       "427             [['GRN8708'], ['CEG2724']]         1.0\n",
       "428  [['CHN2010'], ['CME8107', 'CME8125']]         0.0\n",
       "\n",
       "[429 rows x 2 columns]"
      ]
     },
     "execution_count": 2,
     "metadata": {},
     "output_type": "execute_result"
    }
   ],
   "source": [
    "test_pairs"
   ]
  },
  {
   "cell_type": "markdown",
   "id": "f9f75675",
   "metadata": {},
   "source": [
    "We repeat the explanation of the left column in the above table, as given in `2.0-lk-text-train-test-split.ipynb`:\n",
    "\n",
    "> In the above, we have a series of lists that themselves contain lists. In the first case, `['MCD8007']` and `['HIS3351']` would have their catalogue entries compared and given an integer similarity from 0 (dissimilar) to 5 (essentially identical). Looking at the fifth case, we have `['TCP8902']` and `['MCH3164', 'MCH8164']`. `MCH3164` and `MCH8164` were grouped due to having high cosine similarity in their bag-of-words representations, classifying them as equivalent modules; they are nearly lexicographically identical. Thus, in this comparison, we would compare `TCP8902` with one of `MCH3164` or `MCH8164`; it doesn't matter which.\n",
    "> \n",
    "> Each of the pairings contains two lists (commonly these lists are singleton). Thus to generalise the above idea, we compare *one* of the modules in the first list with *one* of the modules in the second list, per pairing, with the choice of module per list being non-significant.\n",
    "\n",
    "Having now performed the labelling, we have the associated similarity labels for each module pairing in the second column of the table. Thus, in row `0`, modules `MCD8007` and `HIS3351` have been labelled with a similarity of `1`, from the set of possible labels (of increasing similarity) {0, 1, 2, 3, 4, 5}.\n",
    "\n",
    "The labelling was performed by the principal investigator and supervisors of this project, totalling 3 people. Each person provided labels to a third of the above pairings and hence there are 3 disjoint subsets of the above set of modules. We will do some basic analysis here to see how the distributions of the 3 subsets behave."
   ]
  },
  {
   "cell_type": "code",
   "execution_count": 3,
   "id": "a621f1d3",
   "metadata": {},
   "outputs": [],
   "source": [
    "# split the labelled pairs into the 3 disjoint subsets given by the distinct labellers\n",
    "test_pairs_1 = test_pairs.iloc[:143, :]\n",
    "test_pairs_2 = test_pairs.iloc[143:286, :]\n",
    "test_pairs_3 = test_pairs.iloc[286:, :]"
   ]
  },
  {
   "cell_type": "code",
   "execution_count": 4,
   "id": "62e019fe",
   "metadata": {},
   "outputs": [
    {
     "data": {
      "text/html": [
       "<div>\n",
       "<style scoped>\n",
       "    .dataframe tbody tr th:only-of-type {\n",
       "        vertical-align: middle;\n",
       "    }\n",
       "\n",
       "    .dataframe tbody tr th {\n",
       "        vertical-align: top;\n",
       "    }\n",
       "\n",
       "    .dataframe thead th {\n",
       "        text-align: right;\n",
       "    }\n",
       "</style>\n",
       "<table border=\"1\" class=\"dataframe\">\n",
       "  <thead>\n",
       "    <tr style=\"text-align: right;\">\n",
       "      <th></th>\n",
       "      <th>ModuleCodes</th>\n",
       "      <th>ModuleCodes</th>\n",
       "      <th>ModuleCodes</th>\n",
       "    </tr>\n",
       "    <tr>\n",
       "      <th>Similarity</th>\n",
       "      <th></th>\n",
       "      <th></th>\n",
       "      <th></th>\n",
       "    </tr>\n",
       "  </thead>\n",
       "  <tbody>\n",
       "    <tr>\n",
       "      <th>0.0</th>\n",
       "      <td>57</td>\n",
       "      <td>89</td>\n",
       "      <td>97</td>\n",
       "    </tr>\n",
       "    <tr>\n",
       "      <th>1.0</th>\n",
       "      <td>56</td>\n",
       "      <td>34</td>\n",
       "      <td>26</td>\n",
       "    </tr>\n",
       "    <tr>\n",
       "      <th>2.0</th>\n",
       "      <td>15</td>\n",
       "      <td>11</td>\n",
       "      <td>14</td>\n",
       "    </tr>\n",
       "    <tr>\n",
       "      <th>3.0</th>\n",
       "      <td>11</td>\n",
       "      <td>6</td>\n",
       "      <td>4</td>\n",
       "    </tr>\n",
       "    <tr>\n",
       "      <th>4.0</th>\n",
       "      <td>4</td>\n",
       "      <td>3</td>\n",
       "      <td>1</td>\n",
       "    </tr>\n",
       "  </tbody>\n",
       "</table>\n",
       "</div>"
      ],
      "text/plain": [
       "            ModuleCodes  ModuleCodes  ModuleCodes\n",
       "Similarity                                       \n",
       "0.0                  57           89           97\n",
       "1.0                  56           34           26\n",
       "2.0                  15           11           14\n",
       "3.0                  11            6            4\n",
       "4.0                   4            3            1"
      ]
     },
     "execution_count": 4,
     "metadata": {},
     "output_type": "execute_result"
    }
   ],
   "source": [
    "# get the counts of each similarity score, per pair subset\n",
    "similarity_counts_1 = test_pairs_1.groupby('Similarity').count()\n",
    "similarity_counts_2 = test_pairs_2.groupby('Similarity').count()\n",
    "similarity_counts_3 = test_pairs_3.groupby('Similarity').count()\n",
    "\n",
    "# column bind the counts\n",
    "similarity_counts_all = pd.concat([similarity_counts_1, similarity_counts_2, similarity_counts_3], axis = 1)\n",
    "\n",
    "# display the counts adjacently\n",
    "similarity_counts_all"
   ]
  },
  {
   "cell_type": "markdown",
   "id": "1759c240",
   "metadata": {},
   "source": [
    "Each of the subsets shows a positively skewed distribution of similarities. This is to be expected since the corpus of modules is quite diverse; the probability of two randomly selected modules being semantically similar is low. Interestingly, we note that no pairings were given a label of `5`, i.e. a semantically identical label. This indicates that, if they exist, semantically identical modules are likely to be very rare. Since modules with high cosine similarity in their bag-of-words representations have already been merged, it's possible that some non-duplicate but highly semantically similar modules were merged.\n",
    "\n",
    "Summarisations of this form are generally easier to visualise graphically, which we now do, using bar plots."
   ]
  },
  {
   "cell_type": "code",
   "execution_count": 5,
   "id": "01d66670",
   "metadata": {},
   "outputs": [
    {
     "data": {
      "text/plain": [
       "<AxesSubplot:xlabel='Similarity'>"
      ]
     },
     "execution_count": 5,
     "metadata": {},
     "output_type": "execute_result"
    },
    {
     "data": {
      "image/png": "[encoded data removed]",
      "text/plain": [
       "<Figure size 432x288 with 1 Axes>"
      ]
     },
     "metadata": {
      "needs_background": "light"
     },
     "output_type": "display_data"
    }
   ],
   "source": [
    "similarity_counts_all.plot.bar()"
   ]
  },
  {
   "cell_type": "markdown",
   "id": "ca9611e3",
   "metadata": {},
   "source": [
    "Evidently, subsets 2 and 3 are quite similar in how they are distributed across labels. Subset 1 is more distinct, with noticeably fewer 0 labels and more 1 labels. This could be due to subset 1 having less semantically dissimilar modules, but is more likely to be a cause of systematic (i.e. human) bias in each subset. This is a significant caveat of labelling being performed by multiple people, however it was necessary considering the time constraints of this project. Hopefully any difference in bias between the 3 subsets should not impact semantic textual similarity evaluation to a significant degree."
   ]
  }
 ],
 "metadata": {
  "kernelspec": {
   "display_name": "Python 3 (ipykernel)",
   "language": "python",
   "name": "python3"
  },
  "language_info": {
   "codemirror_mode": {
    "name": "ipython",
    "version": 3
   },
   "file_extension": ".py",
   "mimetype": "text/x-python",
   "name": "python",
   "nbconvert_exporter": "python",
   "pygments_lexer": "ipython3",
   "version": "3.9.12"
  }
 },
 "nbformat": 4,
 "nbformat_minor": 5
}
